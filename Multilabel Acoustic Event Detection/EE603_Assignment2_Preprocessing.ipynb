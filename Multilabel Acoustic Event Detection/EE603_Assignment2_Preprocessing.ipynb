{
 "cells": [
  {
   "cell_type": "markdown",
   "id": "78229dd2",
   "metadata": {
    "id": "78229dd2"
   },
   "source": [
    "### Preprocessing"
   ]
  },
  {
   "cell_type": "code",
   "execution_count": 1,
   "id": "95c553ea",
   "metadata": {
    "id": "95c553ea"
   },
   "outputs": [],
   "source": [
    "import numpy\n",
    "import os\n",
    "import pandas as pd\n",
    "import librosa\n",
    "import librosa.display\n",
    "import tensorflow as tf\n",
    "import matplotlib.pyplot as plt\n",
    "from sklearn.model_selection import train_test_split\n",
    "from sklearn.metrics import confusion_matrix\n",
    "import seaborn as sns\n",
    "from tensorflow.keras.models import load_model"
   ]
  },
  {
   "cell_type": "code",
   "execution_count": 2,
   "id": "f7dbd808",
   "metadata": {
    "id": "f7dbd808"
   },
   "outputs": [],
   "source": [
    "# Initialize all path variables\n",
    "dir_path = os.getcwd()\n",
    "x_data = os.path.join(dir_path, \"validation-dataset/X\")\n",
    "y_data = os.path.join(dir_path, \"validation-dataset/Y\")\n",
    "mfcc_data = os.path.join(dir_path, \"MFCC\")"
   ]
  },
  {
   "cell_type": "markdown",
   "id": "92815d66",
   "metadata": {
    "id": "92815d66"
   },
   "source": [
    "### Preprocessing Data"
   ]
  },
  {
   "cell_type": "code",
   "execution_count": 4,
   "id": "voL_UCT0Lj3Z",
   "metadata": {
    "id": "voL_UCT0Lj3Z"
   },
   "outputs": [],
   "source": [
    "def generateMFCC(x_data, y_data, mfcc_data):\n",
    "    for file in os.listdir(x_data):\n",
    "        mel_spectrogram = numpy.load(x_data+'/'+file)\n",
    "        print(file)\n",
    "        mfcc = librosa.feature.mfcc(S=mel_spectrogram, sr=16000,n_mfcc=20)\n",
    "        mean = numpy.average(mfcc)\n",
    "        std = numpy.std(mfcc)\n",
    "        if(std == 0):\n",
    "            std = std + 1e-25\n",
    "        mfcc = (mfcc - mean)/std\n",
    "        path = os.path.join(mfcc_data, file)\n",
    "        numpy.save(path, mfcc)"
   ]
  },
  {
   "cell_type": "code",
   "execution_count": 6,
   "id": "rvpLI8Tmd7Dw",
   "metadata": {
    "id": "rvpLI8Tmd7Dw"
   },
   "outputs": [],
   "source": [
    "x = os.listdir(x_data)\n",
    "x = sorted(set(x))"
   ]
  },
  {
   "cell_type": "code",
   "execution_count": 7,
   "id": "iO7zWkrrUGf_",
   "metadata": {
    "id": "iO7zWkrrUGf_"
   },
   "outputs": [],
   "source": [
    "mel_spectrograms=[]\n",
    "for file in x:\n",
    "    arr = numpy.load(os.path.join(x_data, file))\n",
    "    m,n,o = arr.shape\n",
    "    arr = arr.reshape(n,o)\n",
    "    mel_spectrogram = librosa.power_to_db(arr, ref=numpy.max)\n",
    "    mat = arr.reshape((arr.shape[0], arr.shape[1], 1))\n",
    "    mel_spectrograms.append(tf.convert_to_tensor(mat))\n",
    "mel_spectrograms = numpy.array(mel_spectrograms)"
   ]
  },
  {
   "cell_type": "code",
   "execution_count": 8,
   "id": "38da62bf",
   "metadata": {
    "id": "38da62bf"
   },
   "outputs": [],
   "source": [
    "def eventroll_to_multihot_vector(eventroll):\n",
    "    \"\"\"\n",
    "    Parameters\n",
    "    ----------\n",
    "    eventroll : np.array\n",
    "        Eventroll matrix of shape=(11, 1000).\n",
    "    \n",
    "    Returns\n",
    "    -------\n",
    "    np.array\n",
    "        A multihot vector of shape=(10,)\n",
    "    \"\"\"\n",
    "    \n",
    "    # findout active events:\n",
    "    active_events = (eventroll.sum(axis=1) >= 0.5).astype('float')\n",
    "    \n",
    "    # remove silence class:\n",
    "    return numpy.delete(active_events, 8)"
   ]
  },
  {
   "cell_type": "code",
   "execution_count": 9,
   "id": "sq0aFGU9gqUS",
   "metadata": {
    "id": "sq0aFGU9gqUS"
   },
   "outputs": [],
   "source": [
    "y_list = os.listdir(y_data)\n",
    "y_list = sorted(set(y_list))"
   ]
  },
  {
   "cell_type": "code",
   "execution_count": 10,
   "id": "2af27be3",
   "metadata": {
    "id": "2af27be3"
   },
   "outputs": [],
   "source": [
    "#List containing all spectrograms\n",
    "y = [] \n",
    "for file in y_list:\n",
    "    arr = numpy.load(os.path.join(y_data, file))\n",
    "    y.append(eventroll_to_multihot_vector(arr))\n",
    "y = numpy.array(y)"
   ]
  },
  {
   "cell_type": "markdown",
   "id": "5f38586d",
   "metadata": {
    "id": "5f38586d"
   },
   "source": [
    "#### Load the required data"
   ]
  },
  {
   "cell_type": "code",
   "execution_count": 11,
   "id": "oYrVPXPEKJca",
   "metadata": {
    "id": "oYrVPXPEKJca"
   },
   "outputs": [],
   "source": [
    "# X=mfccs[0:10000]\n",
    "X_test=mel_spectrograms\n",
    "y_test=y\n",
    "# # used 'random_state' of 40 while splitting to get the balanced split of data \n",
    "# X_train, X_test, y_train, y_test = train_test_split(X, y, test_size=0, random_state=40, shuffle=\"true\")"
   ]
  },
  {
   "cell_type": "code",
   "execution_count": 12,
   "id": "9e21e3aa",
   "metadata": {},
   "outputs": [],
   "source": [
    "# X_train_n = os.path.join(dir_path, 'X_train_logspec')\n",
    "# y_train_n = os.path.join(dir_path, 'y_train_logspec')\n",
    "X_test_n = os.path.join(dir_path, 'X_test_logspec')\n",
    "y_test_n = os.path.join(dir_path, 'y_test_logspec')\n",
    "# numpy.save(X_train_n, X_train)\n",
    "# numpy.save(y_train_n, y_train)\n",
    "numpy.save(X_test_n, X_test)\n",
    "numpy.save(y_test_n, y_test)"
   ]
  },
  {
   "cell_type": "code",
   "execution_count": null,
   "id": "96198327",
   "metadata": {},
   "outputs": [],
   "source": []
  }
 ],
 "metadata": {
  "accelerator": "GPU",
  "colab": {
   "collapsed_sections": [],
   "provenance": []
  },
  "gpuClass": "standard",
  "kernelspec": {
   "display_name": "Python 3 (ipykernel)",
   "language": "python",
   "name": "python3"
  },
  "language_info": {
   "codemirror_mode": {
    "name": "ipython",
    "version": 3
   },
   "file_extension": ".py",
   "mimetype": "text/x-python",
   "name": "python",
   "nbconvert_exporter": "python",
   "pygments_lexer": "ipython3",
   "version": "3.9.2"
  }
 },
 "nbformat": 4,
 "nbformat_minor": 5
}
